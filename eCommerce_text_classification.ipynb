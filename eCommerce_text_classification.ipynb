{
  "nbformat": 4,
  "nbformat_minor": 0,
  "metadata": {
    "colab": {
      "provenance": [],
      "collapsed_sections": [],
      "authorship_tag": "ABX9TyMWPJ5U4nPvFUPvRvc3urc+",
      "include_colab_link": true
    },
    "kernelspec": {
      "name": "python3",
      "display_name": "Python 3"
    },
    "language_info": {
      "name": "python"
    }
  },
  "cells": [
    {
      "cell_type": "markdown",
      "metadata": {
        "id": "view-in-github",
        "colab_type": "text"
      },
      "source": [
        "<a href=\"https://colab.research.google.com/github/abdullah-hamid/tmlc-fellowship/blob/main/eCommerce_text_classification.ipynb\" target=\"_parent\"><img src=\"https://colab.research.google.com/assets/colab-badge.svg\" alt=\"Open In Colab\"/></a>"
      ]
    },
    {
      "cell_type": "code",
      "execution_count": 13,
      "metadata": {
        "id": "v6QkYqmxXs0U"
      },
      "outputs": [],
      "source": [
        "import pandas as pd\n",
        "import numpy as np\n",
        "import matplotlib.pyplot as plt\n",
        "import copy\n",
        "from sklearn import preprocessing\n",
        "from sklearn.model_selection import train_test_split\n",
        "from sklearn.linear_model import LogisticRegression\n",
        "from sklearn.naive_bayes import GaussianNB\n",
        "from sklearn import metrics\n",
        "from sklearn.feature_extraction.text import TfidfVectorizer\n",
        "from sklearn.naive_bayes import MultinomialNB\n",
        "from google.colab import drive"
      ]
    },
    {
      "cell_type": "markdown",
      "source": [
        "\n",
        "# Code downloaded from Kaggle onto my Google Drive\n",
        "\n",
        "eCommerce data found at https://www.kaggle.com/datasets/saurabhshahane/ecommerce-text-classification"
      ],
      "metadata": {
        "id": "CPNN-W44YPy3"
      }
    },
    {
      "cell_type": "code",
      "source": [
        "drive.mount('/content/drive')"
      ],
      "metadata": {
        "colab": {
          "base_uri": "https://localhost:8080/"
        },
        "id": "16fdKKIAX7e7",
        "outputId": "6b52951d-e887-41c8-8a5e-1037e2601632"
      },
      "execution_count": 14,
      "outputs": [
        {
          "output_type": "stream",
          "name": "stdout",
          "text": [
            "Drive already mounted at /content/drive; to attempt to forcibly remount, call drive.mount(\"/content/drive\", force_remount=True).\n"
          ]
        }
      ]
    },
    {
      "cell_type": "markdown",
      "source": [
        "# Import eCommerce data\n",
        "\n",
        "Import data and encode labels to integers. Split data between training and testing sets. "
      ],
      "metadata": {
        "id": "g4EHvQd4Y3xQ"
      }
    },
    {
      "cell_type": "code",
      "source": [
        "df = pd.read_csv('/content/drive/MyDrive/Data/ecommerceDataset.csv',header=None)\n",
        "df.columns = ['category', 'description']\n",
        "df_orig = copy.deepcopy(df)\n",
        "le = preprocessing.LabelEncoder()\n",
        "label = le.fit_transform(df['category'])\n",
        "df = df.drop('category', axis=1)\n",
        "X_train, X_test, y_train, y_test = train_test_split(df, label, test_size=0.20, random_state=42, shuffle=True)\n",
        "\n",
        "df.head()"
      ],
      "metadata": {
        "colab": {
          "base_uri": "https://localhost:8080/",
          "height": 206
        },
        "id": "OGGvLH49YPdL",
        "outputId": "dbb972d0-625b-4b37-9ffc-82f95f8aa2b3"
      },
      "execution_count": 15,
      "outputs": [
        {
          "output_type": "execute_result",
          "data": {
            "text/plain": [
              "                                         description\n",
              "0  Paper Plane Design Framed Wall Hanging Motivat...\n",
              "1  SAF 'Floral' Framed Painting (Wood, 30 inch x ...\n",
              "2  SAF 'UV Textured Modern Art Print Framed' Pain...\n",
              "3  SAF Flower Print Framed Painting (Synthetic, 1...\n",
              "4  Incredible Gifts India Wooden Happy Birthday U..."
            ],
            "text/html": [
              "\n",
              "  <div id=\"df-71bd6e97-8b66-49fe-bd20-167152892c76\">\n",
              "    <div class=\"colab-df-container\">\n",
              "      <div>\n",
              "<style scoped>\n",
              "    .dataframe tbody tr th:only-of-type {\n",
              "        vertical-align: middle;\n",
              "    }\n",
              "\n",
              "    .dataframe tbody tr th {\n",
              "        vertical-align: top;\n",
              "    }\n",
              "\n",
              "    .dataframe thead th {\n",
              "        text-align: right;\n",
              "    }\n",
              "</style>\n",
              "<table border=\"1\" class=\"dataframe\">\n",
              "  <thead>\n",
              "    <tr style=\"text-align: right;\">\n",
              "      <th></th>\n",
              "      <th>description</th>\n",
              "    </tr>\n",
              "  </thead>\n",
              "  <tbody>\n",
              "    <tr>\n",
              "      <th>0</th>\n",
              "      <td>Paper Plane Design Framed Wall Hanging Motivat...</td>\n",
              "    </tr>\n",
              "    <tr>\n",
              "      <th>1</th>\n",
              "      <td>SAF 'Floral' Framed Painting (Wood, 30 inch x ...</td>\n",
              "    </tr>\n",
              "    <tr>\n",
              "      <th>2</th>\n",
              "      <td>SAF 'UV Textured Modern Art Print Framed' Pain...</td>\n",
              "    </tr>\n",
              "    <tr>\n",
              "      <th>3</th>\n",
              "      <td>SAF Flower Print Framed Painting (Synthetic, 1...</td>\n",
              "    </tr>\n",
              "    <tr>\n",
              "      <th>4</th>\n",
              "      <td>Incredible Gifts India Wooden Happy Birthday U...</td>\n",
              "    </tr>\n",
              "  </tbody>\n",
              "</table>\n",
              "</div>\n",
              "      <button class=\"colab-df-convert\" onclick=\"convertToInteractive('df-71bd6e97-8b66-49fe-bd20-167152892c76')\"\n",
              "              title=\"Convert this dataframe to an interactive table.\"\n",
              "              style=\"display:none;\">\n",
              "        \n",
              "  <svg xmlns=\"http://www.w3.org/2000/svg\" height=\"24px\"viewBox=\"0 0 24 24\"\n",
              "       width=\"24px\">\n",
              "    <path d=\"M0 0h24v24H0V0z\" fill=\"none\"/>\n",
              "    <path d=\"M18.56 5.44l.94 2.06.94-2.06 2.06-.94-2.06-.94-.94-2.06-.94 2.06-2.06.94zm-11 1L8.5 8.5l.94-2.06 2.06-.94-2.06-.94L8.5 2.5l-.94 2.06-2.06.94zm10 10l.94 2.06.94-2.06 2.06-.94-2.06-.94-.94-2.06-.94 2.06-2.06.94z\"/><path d=\"M17.41 7.96l-1.37-1.37c-.4-.4-.92-.59-1.43-.59-.52 0-1.04.2-1.43.59L10.3 9.45l-7.72 7.72c-.78.78-.78 2.05 0 2.83L4 21.41c.39.39.9.59 1.41.59.51 0 1.02-.2 1.41-.59l7.78-7.78 2.81-2.81c.8-.78.8-2.07 0-2.86zM5.41 20L4 18.59l7.72-7.72 1.47 1.35L5.41 20z\"/>\n",
              "  </svg>\n",
              "      </button>\n",
              "      \n",
              "  <style>\n",
              "    .colab-df-container {\n",
              "      display:flex;\n",
              "      flex-wrap:wrap;\n",
              "      gap: 12px;\n",
              "    }\n",
              "\n",
              "    .colab-df-convert {\n",
              "      background-color: #E8F0FE;\n",
              "      border: none;\n",
              "      border-radius: 50%;\n",
              "      cursor: pointer;\n",
              "      display: none;\n",
              "      fill: #1967D2;\n",
              "      height: 32px;\n",
              "      padding: 0 0 0 0;\n",
              "      width: 32px;\n",
              "    }\n",
              "\n",
              "    .colab-df-convert:hover {\n",
              "      background-color: #E2EBFA;\n",
              "      box-shadow: 0px 1px 2px rgba(60, 64, 67, 0.3), 0px 1px 3px 1px rgba(60, 64, 67, 0.15);\n",
              "      fill: #174EA6;\n",
              "    }\n",
              "\n",
              "    [theme=dark] .colab-df-convert {\n",
              "      background-color: #3B4455;\n",
              "      fill: #D2E3FC;\n",
              "    }\n",
              "\n",
              "    [theme=dark] .colab-df-convert:hover {\n",
              "      background-color: #434B5C;\n",
              "      box-shadow: 0px 1px 3px 1px rgba(0, 0, 0, 0.15);\n",
              "      filter: drop-shadow(0px 1px 2px rgba(0, 0, 0, 0.3));\n",
              "      fill: #FFFFFF;\n",
              "    }\n",
              "  </style>\n",
              "\n",
              "      <script>\n",
              "        const buttonEl =\n",
              "          document.querySelector('#df-71bd6e97-8b66-49fe-bd20-167152892c76 button.colab-df-convert');\n",
              "        buttonEl.style.display =\n",
              "          google.colab.kernel.accessAllowed ? 'block' : 'none';\n",
              "\n",
              "        async function convertToInteractive(key) {\n",
              "          const element = document.querySelector('#df-71bd6e97-8b66-49fe-bd20-167152892c76');\n",
              "          const dataTable =\n",
              "            await google.colab.kernel.invokeFunction('convertToInteractive',\n",
              "                                                     [key], {});\n",
              "          if (!dataTable) return;\n",
              "\n",
              "          const docLinkHtml = 'Like what you see? Visit the ' +\n",
              "            '<a target=\"_blank\" href=https://colab.research.google.com/notebooks/data_table.ipynb>data table notebook</a>'\n",
              "            + ' to learn more about interactive tables.';\n",
              "          element.innerHTML = '';\n",
              "          dataTable['output_type'] = 'display_data';\n",
              "          await google.colab.output.renderOutput(dataTable, element);\n",
              "          const docLink = document.createElement('div');\n",
              "          docLink.innerHTML = docLinkHtml;\n",
              "          element.appendChild(docLink);\n",
              "        }\n",
              "      </script>\n",
              "    </div>\n",
              "  </div>\n",
              "  "
            ]
          },
          "metadata": {},
          "execution_count": 15
        }
      ]
    },
    {
      "cell_type": "markdown",
      "source": [
        "# Preview data makeup\n",
        "\n",
        "The descriptions are roughly the same size with an outlier that's 50,000+ words long. Seeing that the median is smaller than the standard deviation, we may have an issue with high variance. Looking at the histogram (and max length) there's more likely an issue with outliers. "
      ],
      "metadata": {
        "id": "vCPgCRjza3MK"
      }
    },
    {
      "cell_type": "code",
      "source": [
        "lens = X_train.description.str.len()\n",
        "text1 = '''The mean description length is {:.0f} words, the standard deviation is \n",
        "{:.0f} words and the longest descriptions is {:.0f} words.'''.format(lens.mean(), lens.std(), lens.max())\n",
        "text2 = 'The median description length is {:.0f}.'.format(lens.median())\n",
        "print(text1)\n",
        "print()\n",
        "print(text2)"
      ],
      "metadata": {
        "colab": {
          "base_uri": "https://localhost:8080/"
        },
        "id": "2FxwBSy6a6Fj",
        "outputId": "eca67201-8757-4cba-f54e-33cbad0619ae"
      },
      "execution_count": 16,
      "outputs": [
        {
          "output_type": "stream",
          "name": "stdout",
          "text": [
            "The mean description length is 718 words, the standard deviation is \n",
            "1004 words and the longest descriptions is 50403 words.\n",
            "\n",
            "The median description length is 488.\n"
          ]
        }
      ]
    },
    {
      "cell_type": "code",
      "source": [
        "lens.hist(bins=20)"
      ],
      "metadata": {
        "colab": {
          "base_uri": "https://localhost:8080/",
          "height": 445
        },
        "id": "AdyxYvJ1ecyq",
        "outputId": "42b4ac14-9375-4357-d4e6-e3910f686fe7"
      },
      "execution_count": 17,
      "outputs": [
        {
          "output_type": "execute_result",
          "data": {
            "text/plain": [
              "<matplotlib.axes._subplots.AxesSubplot at 0x7f0c51eacc10>"
            ]
          },
          "metadata": {},
          "execution_count": 17
        },
        {
          "output_type": "display_data",
          "data": {
            "text/plain": [
              "<Figure size 576x504 with 1 Axes>"
            ],
            "image/png": "[encoded data removed]"
          },
          "metadata": {
            "needs_background": "light"
          }
        }
      ]
    },
    {
      "cell_type": "markdown",
      "source": [
        "# Categorical Make Up of Data"
      ],
      "metadata": {
        "id": "gx9YFAOMkgAp"
      }
    },
    {
      "cell_type": "code",
      "source": [
        "plt.rcParams['figure.figsize'] = [8, 7]\n",
        "\n",
        "colors = ['red','blue','orange', 'green']\n",
        "ax = df_orig['category'].value_counts().plot.barh(title='Review Counts by Category',color =  colors)\n"
      ],
      "metadata": {
        "colab": {
          "base_uri": "https://localhost:8080/",
          "height": 444
        },
        "id": "ilftTLZZe3Zu",
        "outputId": "85b56106-3bc9-4633-a689-edc9079407bc"
      },
      "execution_count": 18,
      "outputs": [
        {
          "output_type": "display_data",
          "data": {
            "text/plain": [
              "<Figure size 576x504 with 1 Axes>"
            ],
            "image/png": "[encoded data removed]"
          },
          "metadata": {
            "needs_background": "light"
          }
        }
      ]
    },
    {
      "cell_type": "markdown",
      "source": [
        "# Preprocess Data\n",
        "\n",
        "\n",
        "\n",
        "*   Remove Punctuation\n",
        "*   Use Term Frequency-Inverse Document Frequency (tf-idf) to give weight to how important a word is compared to others.\n",
        "  * Uses unigrams only. Bigrams and trigrams degraded accuracy. \n",
        "\n"
      ],
      "metadata": {
        "id": "9HQ1vDfpllGj"
      }
    },
    {
      "cell_type": "code",
      "source": [
        "# Remove punctuation\n",
        "X_train['description'] = X_train['description'].str.replace('[^\\w\\s]','')\n",
        "X_train.description.head()"
      ],
      "metadata": {
        "colab": {
          "base_uri": "https://localhost:8080/"
        },
        "id": "IfnDVu5DgFx8",
        "outputId": "efc51585-63c2-4d54-b6da-a4e61ca122d6"
      },
      "execution_count": 19,
      "outputs": [
        {
          "output_type": "stream",
          "name": "stderr",
          "text": [
            "/usr/local/lib/python3.7/dist-packages/ipykernel_launcher.py:2: FutureWarning: The default value of regex will change from True to False in a future version.\n",
            "  \n"
          ]
        },
        {
          "output_type": "execute_result",
          "data": {
            "text/plain": [
              "32700    ICW Girls Scarf MultiColoured Small 22 x 72 In...\n",
              "47130    ULANZI DH03 L Bracket Handle Griped Mic Stand ...\n",
              "20274    Penguin Essentials My Family and Other Animals...\n",
              "45776    Gizga Essentials Professional Lens Pen Cleanin...\n",
              "7091     House of Quirk Plastic Storage Organiser Beige...\n",
              "Name: description, dtype: object"
            ]
          },
          "metadata": {},
          "execution_count": 19
        }
      ]
    },
    {
      "cell_type": "code",
      "source": [
        "m = X_train.shape[0]\n"
      ],
      "metadata": {
        "id": "NwusD-D9iQPU"
      },
      "execution_count": 20,
      "outputs": []
    },
    {
      "cell_type": "code",
      "source": [
        "# TD-IDF Vectorizer -- consists soley of unigrams\n",
        "tf_idf_vec = TfidfVectorizer(ngram_range=(1,1),strip_accents='unicode', sublinear_tf=True)\n",
        "\n",
        "train_term_doc = tf_idf_vec.fit_transform(X_train['description'].values.astype('U'))  #Expecting unicode\n",
        "test_term_doc = tf_idf_vec.transform(X_test['description'])"
      ],
      "metadata": {
        "id": "9w8vkcEQijoy"
      },
      "execution_count": 21,
      "outputs": []
    },
    {
      "cell_type": "markdown",
      "source": [
        "TF-IDF's are sparse matrices as evidenced below."
      ],
      "metadata": {
        "id": "fiWRimdgiYMS"
      }
    },
    {
      "cell_type": "code",
      "source": [
        "\n",
        "test_term_doc"
      ],
      "metadata": {
        "colab": {
          "base_uri": "https://localhost:8080/"
        },
        "id": "TWYB5ZaQi_g8",
        "outputId": "df74d1cb-6d08-4fd3-c7e7-565c355464f1"
      },
      "execution_count": 22,
      "outputs": [
        {
          "output_type": "execute_result",
          "data": {
            "text/plain": [
              "<10085x108796 sparse matrix of type '<class 'numpy.float64'>'\n",
              "\twith 696320 stored elements in Compressed Sparse Row format>"
            ]
          },
          "metadata": {},
          "execution_count": 22
        }
      ]
    },
    {
      "cell_type": "markdown",
      "source": [
        "## Use scikit-learn to build a Naive Bayes classifier. Over 90% accuracy outside the box."
      ],
      "metadata": {
        "id": "zk1MEECrihq3"
      }
    },
    {
      "cell_type": "code",
      "source": [
        "naive_bayes_classifier = MultinomialNB()\n",
        "naive_bayes_classifier.fit(train_term_doc, y_train)"
      ],
      "metadata": {
        "colab": {
          "base_uri": "https://localhost:8080/"
        },
        "id": "p7E56uZEFlmW",
        "outputId": "ad0b015d-4a14-4e8a-c3d1-8c295395bbfd"
      },
      "execution_count": 23,
      "outputs": [
        {
          "output_type": "execute_result",
          "data": {
            "text/plain": [
              "MultinomialNB()"
            ]
          },
          "metadata": {},
          "execution_count": 23
        }
      ]
    },
    {
      "cell_type": "markdown",
      "source": [
        "## Summary of results on test data\n",
        "\n",
        "The classifier quantitavely performed worst on the household category. This isn't necassarily surprising as household categories is the largest subset of data as seen in the bar plot above. "
      ],
      "metadata": {
        "id": "eWm-9rWliw7w"
      }
    },
    {
      "cell_type": "code",
      "source": [
        "y_pred = naive_bayes_classifier.predict(test_term_doc)\n",
        "\n",
        "\n",
        "print(metrics.classification_report(y_test, y_pred,\n",
        "                                            target_names=le.classes_))\n",
        "\n",
        "print(\"confusion matrix:\")\n",
        "cm = metrics.confusion_matrix(y_test, y_pred)\n",
        "\n",
        "disp = metrics.ConfusionMatrixDisplay(confusion_matrix=cm, display_labels=le.classes_)\n",
        "disp.plot()\n",
        "plt.title(\"Confusion Matrix\")"
      ],
      "metadata": {
        "colab": {
          "base_uri": "https://localhost:8080/",
          "height": 661
        },
        "id": "Hf41es8rIZQW",
        "outputId": "9e87cdca-45c8-403b-f583-0c27238cd664"
      },
      "execution_count": 24,
      "outputs": [
        {
          "output_type": "stream",
          "name": "stdout",
          "text": [
            "                        precision    recall  f1-score   support\n",
            "\n",
            "                 Books       0.97      0.91      0.94      2387\n",
            "Clothing & Accessories       0.98      0.89      0.93      1744\n",
            "           Electronics       0.96      0.86      0.91      2067\n",
            "             Household       0.86      0.98      0.92      3887\n",
            "\n",
            "              accuracy                           0.92     10085\n",
            "             macro avg       0.95      0.91      0.93     10085\n",
            "          weighted avg       0.93      0.92      0.92     10085\n",
            "\n",
            "confusion matrix:\n"
          ]
        },
        {
          "output_type": "execute_result",
          "data": {
            "text/plain": [
              "Text(0.5, 1.0, 'Confusion Matrix')"
            ]
          },
          "metadata": {},
          "execution_count": 24
        },
        {
          "output_type": "display_data",
          "data": {
            "text/plain": [
              "<Figure size 576x504 with 2 Axes>"
            ],
            "image/png": "[encoded data removed]"
          },
          "metadata": {
            "needs_background": "light"
          }
        }
      ]
    }
  ]
}